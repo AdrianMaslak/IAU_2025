{
 "cells": [
  {
   "cell_type": "markdown",
   "id": "e472b608",
   "metadata": {},
   "source": [
    "## Základný opis dát spolu s ich charakteristikami ##"
   ]
  },
  {
   "cell_type": "markdown",
   "id": "b48b2eba",
   "metadata": {},
   "source": [
    "### Adrian Maslak ###"
   ]
  },
  {
   "cell_type": "markdown",
   "id": "3ba72f5a",
   "metadata": {},
   "source": [
    "Import kniznic"
   ]
  },
  {
   "cell_type": "code",
   "execution_count": null,
   "id": "6d076f04",
   "metadata": {},
   "outputs": [],
   "source": [
    "import pandas as pd\n",
    "import numpy as np\n",
    "import matplotlib.pyplot as plt\n",
    "import seaborn as sns\n",
    "from scipy import stats\n",
    "from scipy.spatial import cKDTree"
   ]
  },
  {
   "cell_type": "markdown",
   "id": "279c69af",
   "metadata": {},
   "source": [
    "Nacitanie datasetu"
   ]
  },
  {
   "cell_type": "code",
   "execution_count": null,
   "id": "28a6051b",
   "metadata": {},
   "outputs": [],
   "source": [
    "patient = pd.read_csv('../069/patient.csv', sep=\"\\t\", quotechar='\"', engine='python')\n",
    "station = pd.read_csv('../069/station.csv' , sep=\"\\t\")\n",
    "observation = pd.read_csv('../069/observation.csv', sep=\"\\t\")"
   ]
  },
  {
   "cell_type": "markdown",
   "id": "c48c180d",
   "metadata": {},
   "source": [
    "Basic information"
   ]
  },
  {
   "cell_type": "code",
   "execution_count": null,
   "id": "a47c1738",
   "metadata": {},
   "outputs": [],
   "source": [
    "import pandas as pd\n",
    "\n",
    "\n",
    "\n",
    "# Over typy dát pre latitude a longitude\n",
    "observation['latitude'] = pd.to_numeric(observation['latitude'], errors='coerce')\n",
    "observation['longitude'] = pd.to_numeric(observation['longitude'], errors='coerce')\n",
    "station['latitude'] = pd.to_numeric(station['latitude'], errors='coerce')\n",
    "station['longitude'] = pd.to_numeric(station['longitude'], errors='coerce')\n",
    "\n",
    "# Pridaj station_ID\n",
    "station['station_ID'] = station.index + 1\n",
    "\n",
    "# Spoj observation so station na latitude a longitude\n",
    "merged_obs_station = pd.merge(observation, station, on=['latitude', 'longitude'], how='left')\n",
    "\n",
    "# Over, či station_ID je numerický\n",
    "merged_obs_station['station_ID'] = pd.to_numeric(merged_obs_station['station_ID'], errors='coerce')\n",
    "patient['station_ID'] = pd.to_numeric(patient['station_ID'], errors='coerce')\n",
    "\n",
    "# Spoj s patient na station_ID\n",
    "merged_all = pd.merge(merged_obs_station, patient, on='station_ID', how='left')\n",
    "\n",
    "# Zobraz štruktúru výsledného datasetu\n",
    "print(\"Počet riadkov a stĺpcov v spojenom datasete:\", merged_all.shape)\n",
    "print(\"\\nAtribúty a ich typy:\\n\", merged_all.dtypes)\n",
    "\n",
    "# Ulož výsledok\n",
    "merged_all.to_csv('merged_dataset.csv', index=False)"
   ]
  },
  {
   "cell_type": "code",
   "execution_count": null,
   "id": "b7abfb8e",
   "metadata": {},
   "outputs": [],
   "source": [
    "\n",
    "# Funkcia na analýzu štruktúry datasetu\n",
    "def analyze_structure(df, name):\n",
    "    print(f\"--- Analýza štruktúry pre {name.upper()} ---\")\n",
    "    print(f\"Počet záznamov: {df.shape[0]}\")\n",
    "    print(f\"Počet atribútov: {df.shape[1]}\")\n",
    "    print(\"Typy atribútov:\")\n",
    "    display(df.dtypes)\n",
    "    print(\"Chýbajúce hodnoty (počet a %):\")\n",
    "    null_counts = df.isnull().sum()\n",
    "    null_percent = (null_counts / df.shape[0] * 100).round(2)\n",
    "    display(pd.concat([null_counts, null_percent], axis=1, keys=['Počet null', '% null']))\n",
    "    \n",
    "    # Unikátne hodnoty\n",
    "    print(\"Unikátne hodnoty v kľúčových stĺpcoch:\")\n",
    "    key_columns = ['user_id', 'station_ID', 'blood_group', 'company'] if name == 'patient' else \\\n",
    "                  ['location', 'station', 'code'] if name == 'station' else []\n",
    "    for col in key_columns:\n",
    "        if col in df.columns:\n",
    "            print(f\"{col}: {df[col].nunique()}\")\n",
    "            print(f\"Top 5 hodnôt v {col}:\")\n",
    "            display(df[col].value_counts().head())\n",
    "    \n",
    "    # Duplikáty\n",
    "    print(f\"Počet duplicitných riadkov: {df.duplicated().sum()}\")\n",
    "    if 'user_id' in df.columns:\n",
    "        print(f\"Počet duplicitných user_id: {df['user_id'].duplicated().sum()}\")\n",
    "        if df['user_id'].duplicated().sum() > 0:\n",
    "            print(\"Príklady duplicitných user_id (prvé 5):\")\n",
    "            display(df[df['user_id'].duplicated(keep=False)].sort_values('user_id').head())\n",
    "    \n",
    "\n",
    "# Aplikácia na všetky datasety\n",
    "for df, name in [(patient, 'patient'), (station, 'station'), (observation, 'observation')]:\n",
    "    analyze_structure(df, name)\n",
    "\n"
   ]
  },
  {
   "cell_type": "code",
   "execution_count": null,
   "id": "8ca071d6",
   "metadata": {},
   "outputs": [],
   "source": []
  },
  {
   "cell_type": "markdown",
   "id": "e2c8dec5",
   "metadata": {},
   "source": [
    "# A"
   ]
  },
  {
   "cell_type": "markdown",
   "id": "f785afd8",
   "metadata": {},
   "source": [
    "## Analyza dat: <br>\n",
    "Dataset *patient* obsahuje 2064 zaznamov, 15 atributov\n",
    "__Chybajuce Hodnoty __\n",
    "- residence: 100%\n",
    "- job: 70% \n",
    "- adress: 15%\n",
    "- location: 5%\n",
    "\n",
    "Obsahuje mnoho duplicitnych __user_id__, pomerne chaoticky. Neskor zistime ci je potrebny pre nas ciel\n",
    "<br>\n",
    "\n",
    "Dataset *station* obsahuje 836 zaznamov, 6 atributov\n",
    "- Tento dataset je pomerne upratany, bez duplikatov \n",
    "\n",
    "Dataset *observation* obsahuje 12042 zaznamov, 23 atributov\n",
    "- Nas hlavny dataset pre predikciu _oximetry_. Je bez duplikatov a chybajucich hodnot. Vsetky hodnoty su typu float64\n",
    "\n",
    "\n",
    "\n"
   ]
  },
  {
   "cell_type": "markdown",
   "id": "3d358e87",
   "metadata": {},
   "source": [
    "# B   \n",
    "## Analyza jednotlivych udajov \n"
   ]
  },
  {
   "cell_type": "code",
   "execution_count": null,
   "id": "787e3421",
   "metadata": {},
   "outputs": [],
   "source": [
    "\n",
    "selected_attrs = ['SpO₂', 'HR', 'PI', 'RR', 'EtCO₂', 'FiO₂', 'BP', 'Skin Temperature', 'Hb level', 'oximetry']\n",
    "\n",
    "# Očakávané medicínske rozsahy\n",
    "ranges = {\n",
    "    'SpO₂': (95, 100),\n",
    "    'HR': (60, 100),\n",
    "    'PI': (0.2, 20),\n",
    "    'RR': (12, 20),\n",
    "    'EtCO₂': (35, 45),\n",
    "    'FiO₂': (21, 100),\n",
    "    'BP': (90, 120),\n",
    "    'Skin Temperature': (33, 38),\n",
    "    'Hb level': (12, 18),\n",
    "    'oximetry': (0, 1)\n",
    "}\n",
    "\n",
    "# Deskriptívne štatistiky pre observation\n",
    "print(\"Deskriptívne štatistiky pre vybrané atribúty v observation:\")\n",
    "display(observation[selected_attrs].describe())\n",
    "\n",
    "# Overenie rozsahov\n",
    "print(\"\\nOverenie medicínskych rozsahov:\")\n",
    "for attr in selected_attrs:\n",
    "    min_val, max_val = observation[attr].min(), observation[attr].max()\n",
    "    expected_min, expected_max = ranges.get(attr, (None, None))\n",
    "    status = 'OK' if (expected_min <= min_val <= max_val <= expected_max) else 'Mimo rozsah'\n",
    "    print(f\"{attr}: Min={min_val:.2f}, Max={max_val:.2f}, Očakávaný rozsah={expected_min}-{expected_max}, Status={status}\")\n",
    "\n",
    "# Vizualizácia distribúcií (histogramy s KDE)\n",
    "fig, axes = plt.subplots(5, 2, figsize=(12, 20))\n",
    "axes = axes.ravel()\n",
    "for i, attr in enumerate(selected_attrs):\n",
    "    sns.histplot(observation[attr], kde=True, ax=axes[i])\n",
    "    axes[i].set_title(f\"Distribúcia {attr}\")\n",
    "plt.tight_layout()\n",
    "plt.show()\n",
    "\n",
    "# Boxploty pre numerické atribúty\n",
    "fig, axes = plt.subplots(5, 2, figsize=(12, 20))\n",
    "axes = axes.ravel()\n",
    "for i, attr in enumerate(selected_attrs):\n",
    "    sns.boxplot(y=observation[attr], ax=axes[i])\n",
    "    axes[i].set_title(f\"Boxplot {attr}\")\n",
    "plt.tight_layout()\n",
    "plt.show()\n",
    "\n",
    "# Analýza blood_group z patient\n",
    "print(\"\\nDistribúcia blood_group v patient:\")\n",
    "display(patient['blood_group'].value_counts(normalize=True).round(3))\n",
    "plt.figure(figsize=(8, 6))\n",
    "sns.countplot(x='blood_group', data=patient, order=patient['blood_group'].value_counts().index)\n",
    "plt.title(\"Distribúcia blood_group\")\n",
    "plt.xticks(rotation=45)\n",
    "plt.show()"
   ]
  },
  {
   "cell_type": "markdown",
   "id": "24c01572",
   "metadata": {},
   "source": [
    "V deskriptivnej statistike vidime: \n",
    "- $SpO_2$ (Saturacia kyslika): Hodnoty vyzeraju normalne. Nemame ziadne hodnoty pod 95 co znaci pozitivne vysledky.\n",
    "- HR (Srdcovy tep): Priemer je ~80 BPM. Rozsah 60-100 BPM co znaci normalnu distribuciu. Nevidime ziadne extremy\n",
    "- PI (Perfuzny index): Priemer ~10, znaci zdravu populaciu. Histogram je mierne Left-skewed co znaci ze sa nova krv dostava do koncatim vo vacsom mnostve vo vacsej casti populacie. Rozsah 0.2-20 - normalne hodnoty su 1-20\n",
    "- RR (dychacia frekvencia): Priemer ~16, normalny rozsah je 12-20 co znaci zdrave hodnoty. Nevidime ziadne extremne hodnoty co by znacilo dychavicnost alebo ine priznaky\n",
    "- $EtCO_2$ (end-tidal CO2) : priemer 39.81mmHg co je v sulade s priemerom\n",
    "- $FiO_2$ (Frakcia inspirovaneho kyslika): Priemer ~64% - vyssi priemer naznacuje ze cast pacientov je na kyslikovej liecbe. Hladina kyslika vo vzduchu 0.21, extremne pripady pri terapii 1.00. \n",
    "- BP (Systolicky krvny tlak) : priemer ~103 mmHg - normalne hodnoty su 90-120 cize hodnoty su v norme. \n",
    "- Skin temperature: Priemer ~35,5 C z mojho hladiska je teplota mierne pod beznou telesnou teplotou. No v pripade zistovanych lekarskych hodnot je normalny rozsah 33-37 C cize tiez v norme\n",
    "- HB (hemoglobin): Priemer ~15, rozsah je 12-18 co neznaci ziadne znamky anemie alebo polycytemie\n",
    "- oximetry: Nechapem (Potrebujem konzultovat)\n",
    "\n",
    "\n",
    "<br>\n",
    "Krvne skupiny su rovnomerne rozdelene co nam vytvara vhodny kategoricky model "
   ]
  },
  {
   "cell_type": "markdown",
   "id": "2fbe40a2",
   "metadata": {},
   "source": [
    "# C\n",
    "## Parova analyza"
   ]
  },
  {
   "cell_type": "code",
   "execution_count": null,
   "id": "0b974139",
   "metadata": {},
   "outputs": [],
   "source": [
    "corr_matrix = observation.corr(method='pearson')\n",
    "\n",
    "# veľkosť a ukážka matice\n",
    "print(f\"Rozmery korelačnej matice: {corr_matrix.shape}\")\n",
    "corr_matrix.head()\n",
    "\n",
    "# Vizualizácia heatmap\n",
    "plt.figure(figsize=(12, 10))\n",
    "sns.heatmap(corr_matrix, annot=True, cmap='coolwarm', fmt=\".2f\", vmin=-1, vmax=1)\n",
    "plt.title(\"Korelačná matica atribútov\")\n",
    "plt.show()\n"
   ]
  },
  {
   "cell_type": "code",
   "execution_count": null,
   "id": "2573bf4b",
   "metadata": {},
   "outputs": [],
   "source": []
  },
  {
   "cell_type": "code",
   "execution_count": null,
   "id": "62ba9f4f",
   "metadata": {},
   "outputs": [],
   "source": [
    "import seaborn as sns\n",
    "import matplotlib.pyplot as plt\n",
    "\n",
    "# dvojice atribútov, ktoré chceme zobraziť\n",
    "pairs_to_plot = [\n",
    "    ('HR', 'CO'),\n",
    "    ('SpO₂', 'oximetry'),\n",
    "    ('SpO₂', 'PI'),\n",
    "    ('Skin Temperature', 'PI'),\n",
    "    ('Skin Temperature', 'RR')\n",
    "]\n",
    "asd\n",
    "# jednoduché scatterploty\n",
    "for x, y in pairs_to_plot:\n",
    "    if x in observation.columns and y in observation.columns:\n",
    "        plt.figure(figsize=(6,5))\n",
    "        sns.scatterplot(data=observation, x=x, y=y, alpha=0.6)\n",
    "        plt.title(f'{x} vs {y}', fontsize=13)\n",
    "        plt.xlabel(x)\n",
    "        plt.ylabel(y)\n",
    "        plt.grid(True, linestyle='--', alpha=0.5)\n",
    "        plt.tight_layout()\n",
    "        plt.show()\n"
   ]
  },
  {
   "cell_type": "code",
   "execution_count": null,
   "id": "4d10065f",
   "metadata": {},
   "outputs": [],
   "source": []
  },
  {
   "cell_type": "code",
   "execution_count": null,
   "id": "39f2ede1",
   "metadata": {},
   "outputs": [],
   "source": [
    "data['oximetry'].value_counts(normalize=True)\n"
   ]
  },
  {
   "cell_type": "markdown",
   "id": "17c35ee7",
   "metadata": {},
   "source": []
  }
 ],
 "metadata": {
  "kernelspec": {
   "display_name": "iau (3.13.0)",
   "language": "python",
   "name": "python3"
  },
  "language_info": {
   "codemirror_mode": {
    "name": "ipython",
    "version": 3
   },
   "file_extension": ".py",
   "mimetype": "text/x-python",
   "name": "python",
   "nbconvert_exporter": "python",
   "pygments_lexer": "ipython3",
   "version": "3.13.0"
  }
 },
 "nbformat": 4,
 "nbformat_minor": 5
}
