{
 "cells": [
  {
   "metadata": {},
   "cell_type": "markdown",
   "source": "Zadanie 1 úloha 1",
   "id": "78676da83d4eafcb"
  },
  {
   "metadata": {},
   "cell_type": "code",
   "outputs": [],
   "execution_count": null,
   "source": "",
   "id": "73e48c59248cba69"
  }
 ],
 "metadata": {},
 "nbformat": 4,
 "nbformat_minor": 5
}
